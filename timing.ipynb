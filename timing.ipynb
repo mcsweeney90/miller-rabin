{
 "cells": [
  {
   "cell_type": "markdown",
   "id": "0db751d8-3cfa-41bc-9c67-0faed604659a",
   "metadata": {},
   "source": [
    "# Timing analysis\n",
    "\n",
    "Here we evaluate the efficiency of the functions implemented in `src/prime_functions.py`. Of course, they weren't really intended to be optimal, but there are a few things it will be interesting to investigate - for example, how much of a difference does using the minimally-sized bases make in `miller_rabin`? \n",
    "\n",
    "First, we import some of the packages and functions that we'll need:"
   ]
  },
  {
   "cell_type": "code",
   "execution_count": 1,
   "id": "44901fcd-09ba-44d7-bce3-9f1c5000dde1",
   "metadata": {},
   "outputs": [],
   "source": [
    "import timeit\n",
    "\n",
    "import sys\n",
    "sys.path.append(\"src/\")\n",
    "from prime_functions import get_primes, miller_rabin"
   ]
  },
  {
   "cell_type": "markdown",
   "id": "3ee2bba3-dfa6-4b00-829f-986a0f9d013b",
   "metadata": {},
   "source": [
    "## How much of a difference does numpy make?\n",
    "\n",
    "There are two versions of the `get_primes` function, one which uses `numpy` and one which doesn't. We'd obviously expect the former to be faster, but how more efficient is it?"
   ]
  },
  {
   "cell_type": "code",
   "execution_count": 16,
   "id": "3bec7550-80e2-4e17-a004-299d335b0a62",
   "metadata": {},
   "outputs": [
    {
     "name": "stdout",
     "output_type": "stream",
     "text": [
      "With numpy:\n",
      "1.18 ms ± 932 ns per loop (mean ± std. dev. of 7 runs, 1000 loops each)\n",
      "Without numpy:\n",
      "21.7 ms ± 115 µs per loop (mean ± std. dev. of 7 runs, 10 loops each)\n"
     ]
    }
   ],
   "source": [
    "N = 1000000\n",
    "print(\"With numpy:\")\n",
    "%timeit get_primes(N)\n",
    "print(\"Without numpy:\")\n",
    "%timeit get_primes(N, with_numpy=False)"
   ]
  },
  {
   "cell_type": "markdown",
   "id": "39d5f175-92c2-4278-93f7-d707395844a9",
   "metadata": {},
   "source": [
    "So that's a pretty decent speedup. Playing around, we see that there's some variation with the size of N and so on, but in general it seems that we can expect healthy gains by using the `numpy` version of the function. One natural question is, since it is sometimes necessary, how much of a difference does converting the `numpy` array to a list afterward make? Let's see:  "
   ]
  },
  {
   "cell_type": "code",
   "execution_count": 17,
   "id": "5748c44b-9b68-4622-a73c-8d41ee572d67",
   "metadata": {},
   "outputs": [
    {
     "name": "stdout",
     "output_type": "stream",
     "text": [
      "With numpy (and list conversion):\n",
      "3.37 ms ± 41.5 µs per loop (mean ± std. dev. of 7 runs, 100 loops each)\n",
      "Without numpy:\n",
      "21.3 ms ± 152 µs per loop (mean ± std. dev. of 7 runs, 10 loops each)\n"
     ]
    }
   ],
   "source": [
    "print(\"With numpy (and list conversion):\")\n",
    "%timeit list(get_primes(N))\n",
    "print(\"Without numpy:\")\n",
    "%timeit get_primes(N, with_numpy=False)"
   ]
  },
  {
   "cell_type": "markdown",
   "id": "fe1dd2c1-dd26-4b6c-be0c-b2100d2e21f2",
   "metadata": {},
   "source": [
    "Although there *is* an increase in runtime, the `numpy` version is still much faster. However, for smaller arrays, when the disparity is less pronounced, the additional time can be significant:"
   ]
  },
  {
   "cell_type": "code",
   "execution_count": 18,
   "id": "b8e3f394-c3a3-4549-b4ad-f8faea1933d5",
   "metadata": {},
   "outputs": [
    {
     "name": "stdout",
     "output_type": "stream",
     "text": [
      "With numpy (and list conversion):\n",
      "24.6 µs ± 408 ns per loop (mean ± std. dev. of 7 runs, 10000 loops each)\n",
      "Without numpy:\n",
      "24.6 µs ± 44.3 ns per loop (mean ± std. dev. of 7 runs, 10000 loops each)\n"
     ]
    }
   ],
   "source": [
    "N = 1000\n",
    "print(\"With numpy (and list conversion):\")\n",
    "%timeit list(get_primes(N))\n",
    "print(\"Without numpy:\")\n",
    "%timeit get_primes(N, with_numpy=False)"
   ]
  },
  {
   "cell_type": "markdown",
   "id": "19388e82-24dd-4987-8122-5d3ab99e82da",
   "metadata": {},
   "source": [
    "Despite this, overall it seems safe to conclude that there's little incentive to use the pure Python version, unless for some reason you absolutely cannot use `numpy`. \n",
    "\n",
    "So far we haven't considered how these implementations compare to a similar function from a standard maths library, so let's repeat the comparison with the `primerange` function from the `sympy` library, which computes all of the prime numbers within a certain range: "
   ]
  },
  {
   "cell_type": "code",
   "execution_count": 4,
   "id": "9a12f9ae-6269-4677-b026-58c260255499",
   "metadata": {},
   "outputs": [
    {
     "name": "stdout",
     "output_type": "stream",
     "text": [
      "With numpy:\n",
      "387 ms ± 5.02 ms per loop (mean ± std. dev. of 7 runs, 1 loop each)\n",
      "Without numpy:\n",
      "3.05 s ± 56 ms per loop (mean ± std. dev. of 7 runs, 1 loop each)\n",
      "Sympy:\n",
      "829 ms ± 7.25 ms per loop (mean ± std. dev. of 7 runs, 1 loop each)\n"
     ]
    }
   ],
   "source": [
    "from sympy import sieve\n",
    "\n",
    "N = 100000000\n",
    "print(\"With numpy:\")\n",
    "%timeit get_primes(N)\n",
    "print(\"Without numpy:\")\n",
    "%timeit get_primes(N, with_numpy=False)\n",
    "print(\"Sympy:\")\n",
    "%timeit list(sieve.primerange(1, N))"
   ]
  },
  {
   "cell_type": "markdown",
   "id": "b3d98eef-5552-48f2-8364-ed8e7e75d98b",
   "metadata": {},
   "source": [
    "So the `numpy` version of `get_primes` is actually faster!"
   ]
  },
  {
   "cell_type": "markdown",
   "id": "7b39d7e6-3703-4292-8ff4-dc3dbbdbba88",
   "metadata": {},
   "source": [
    "## How much better is it to use a smaller set of bases?\n",
    "\n",
    "As for `get_primes`, there are effectively two versions of `miller_rabin`: one which uses the best known bases as far as possible, and one which builds the sets of bases from the first few prime numbers instead. Is there a notable difference in speed between the two? \n",
    "\n",
    "To test this, we use the following set of interesting primes and composites, which were also used for unit testing the `miller_rabin` function in `tests/test_prime_functions.py`:"
   ]
  },
  {
   "cell_type": "code",
   "execution_count": 5,
   "id": "eeda3399-3525-4588-9c29-b66dddb9bd8c",
   "metadata": {},
   "outputs": [],
   "source": [
    "primes = [2, 3, 5, 7, 11, 13, 17, 19, 23, 29, 31, 37, 41, 43, 47,\n",
    "          53, 59, 61, 67, 71, 73, 79, 83, 89, 97, # All primes less than 100\n",
    "          877, 27644437, 35742549198872617291353508656626642567, 359334085968622831041960188598043661065388726959079837, # Bell primes\n",
    "          211, 2311, 200560490131, # Euclid \n",
    "          719, 5039, 39916801, 479001599, 87178291199, 10888869450418352160768000001, 265252859812191058636308479999999, \n",
    "          263130836933693530167218012159999999, 8683317618811886495518194401279999999, # Factorial \n",
    "          257, 65537, # Fermat \n",
    "          233, 1597, 28657, 514229, 433494437, 2971215073, 99194853094755497, \n",
    "          1066340417491710595814572169, 19134702400093278081449423917, # Fibonacci \n",
    "          113, 167, 269, 389, 419, 509, 659, 839, 1049, 1259, 1889, # Highly cototient \n",
    "          593, 32993, 2097593, 8589935681, 59604644783353249, 523347633027360537213687137, \n",
    "          43143988327398957279342419750374600193, # Leyland \n",
    "          127, 8191, 131071, 524287, 2147483647, 2305843009213693951, 618970019642690137449562111, \n",
    "          162259276829213363391578010288127, 170141183460469231731687303715884105727, # Mersenne \n",
    "          1361, 2521008887, 16022236204009818131831320183, # Mills \n",
    "          239, 9369319, 63018038201, 489133282872437279, 19175002942688032928599, # Newman-Shanks-Williams \n",
    "          40487, 6692367337, # Non-generous \n",
    "          5741, 33461, 44560482149, 1746860020068409, 68480406462161287469, 13558774610046711780701, \n",
    "          4125636888562548868221559797461449,  # Pell \n",
    "          211, 2309, 2311, 30029, 200560490131, 304250263527209, 23768741896345550770650537601358309, # Primorial \n",
    "          1111111111111111111, 11111111111111111111111, # Repunit \n",
    "          683, 2731, 43691, 174763, 2796203, 715827883, 2932031007403, 768614336404564651, \n",
    "          201487636602438195784363, 845100400152152934331135470251, 56713727820156410577229101238628035243, # Wagstaff\n",
    "          383, 32212254719, 2833419889721787128217599, 195845982777569926302400511, 4776913109852041418248056622882488319 # Woodall\n",
    "          ]\n",
    "\n",
    "composites = [23**2, 233 * 239, # Simple composites \n",
    "              561, 41041, 825265, 321197185, 5394826801, 232250619601, 9746347772161, 1436697831295441,\n",
    "              60977817398996785, 7156857700403137441, 1791562810662585767521, 87674969936234821377601,\n",
    "              6553130926752006031481761, 1590231231043178376951698401, 35237869211718889547310642241,\n",
    "              32809426840359564991177172754241, 2810864562635368426005268142616001, \n",
    "              349407515342287435050603204719587201, # Carmichael numbers\n",
    "              25326001, 161304001, 960946321, 1157839381, 3215031751, 3697278427, 5764643587, \n",
    "              6770862367, 14386156093, 15579919981, 18459366157, 19887974881, 21276028621, # Strong pseudoprimes for bases 2, 3, 5\n",
    "              3825123056546413051 # Strong pseudoprime for bases 2, 3, 5, 7, 11, 13, 17, 19, and 23 \n",
    "              ] \n",
    "\n",
    "test_set = primes + composites"
   ]
  },
  {
   "cell_type": "markdown",
   "id": "fcb75cbb-cccd-4c93-9f96-1f08006fca85",
   "metadata": {},
   "source": [
    "At this point we should note that the two versions of `miller_rabin` are identical for N greater than 2**64 = 18446744073709551616, so we should probably ignore any numbers in the test set that are larger than that:"
   ]
  },
  {
   "cell_type": "code",
   "execution_count": 7,
   "id": "37f2bdda-35d2-455d-80a9-15f625a6f487",
   "metadata": {},
   "outputs": [
    {
     "name": "stdout",
     "output_type": "stream",
     "text": [
      "Original size of test set: 155\n",
      "Final size of test set: 121\n"
     ]
    }
   ],
   "source": [
    "print(f\"Original size of test set: {len(test_set)}\")\n",
    "test_set = [*filter(lambda n : (n <= 18446744073709551616), test_set)]\n",
    "print(f\"Final size of test set: {len(test_set)}\")"
   ]
  },
  {
   "cell_type": "markdown",
   "id": "50351015-d461-4981-ad6f-2f6e6088d9d5",
   "metadata": {},
   "source": [
    "Okay, now let's time the two versions of the function for this test set: "
   ]
  },
  {
   "cell_type": "code",
   "execution_count": 8,
   "id": "e9707288-993e-4fb0-902b-7a809e9b1bb6",
   "metadata": {},
   "outputs": [
    {
     "name": "stdout",
     "output_type": "stream",
     "text": [
      "Without minimal bases:\n",
      "108 ns ± 0.665 ns per loop (mean ± std. dev. of 7 runs, 10000000 loops each)\n",
      "With minimal bases:\n",
      "104 ns ± 0.989 ns per loop (mean ± std. dev. of 7 runs, 10000000 loops each)\n"
     ]
    }
   ],
   "source": [
    "from functools import partial\n",
    "without_minimal = partial(miller_rabin, minimal=False)\n",
    "\n",
    "print(\"Without minimal bases:\")\n",
    "%timeit map(without_minimal, test_set)\n",
    "print(\"With minimal bases:\")\n",
    "%timeit map(miller_rabin, test_set)"
   ]
  },
  {
   "cell_type": "markdown",
   "id": "1f764265-6630-4f3f-992a-67debb4f1613",
   "metadata": {},
   "source": [
    "Although there is a small speedup, it's really not that impressive! \n",
    "\n",
    "Part of the problem may be the small size of the test set, as well as the fact that its entries vary quite widely in size. How about if we just consider, say, the numbers between 100000 and 300000, since the minimal version uses only one base in that case, whereas the alternative uses two?   "
   ]
  },
  {
   "cell_type": "code",
   "execution_count": 10,
   "id": "284543dd-4856-47ea-b604-00fa5de918bc",
   "metadata": {},
   "outputs": [
    {
     "name": "stdout",
     "output_type": "stream",
     "text": [
      "Without minimal bases:\n",
      "272 ns ± 1.01 ns per loop (mean ± std. dev. of 7 runs, 1000000 loops each)\n",
      "With minimal bases:\n",
      "269 ns ± 1.54 ns per loop (mean ± std. dev. of 7 runs, 1000000 loops each)\n"
     ]
    }
   ],
   "source": [
    "print(\"Without minimal bases:\")\n",
    "%timeit map(without_minimal, range(100000, 300001))\n",
    "print(\"With minimal bases:\")\n",
    "%timeit map(miller_rabin, range(100000, 300001))"
   ]
  },
  {
   "cell_type": "markdown",
   "id": "fef2df4b-86c7-4c9e-8394-1d48da629a5d",
   "metadata": {},
   "source": [
    "Again, only a very minor speedup! \n",
    "\n",
    "The ideal scenario for the minimal version is a range of numbers for which its set of bases is much smaller. So if we consider, for example, the sequence of one million consecutive integers starting at 2152302898747 then `miller_rabin` with `minimal=True` uses [2, 141889084524735, 1199124725622454117, 11096072698276303650] - i.e., 4 bases - whereas the alternative version uses [2, 3, 5, 7, 11, 13] - i.e., 6 bases. We would hope for good performance gains with the minimal basis, however we see that is not the case:"
   ]
  },
  {
   "cell_type": "code",
   "execution_count": 16,
   "id": "f58b56b5-c0ec-413a-8e96-724d5be7dcce",
   "metadata": {},
   "outputs": [
    {
     "name": "stdout",
     "output_type": "stream",
     "text": [
      "Without minimal bases:\n",
      "285 ns ± 1.11 ns per loop (mean ± std. dev. of 7 runs, 1000000 loops each)\n",
      "With minimal bases:\n",
      "285 ns ± 1.06 ns per loop (mean ± std. dev. of 7 runs, 1000000 loops each)\n"
     ]
    }
   ],
   "source": [
    "start, end = 2152302898747, 2152302898747 + 1000000\n",
    "print(\"Without minimal bases:\")\n",
    "%timeit map(without_minimal, range(start, end))\n",
    "print(\"With minimal bases:\")\n",
    "%timeit map(miller_rabin, range(start, end))"
   ]
  },
  {
   "cell_type": "markdown",
   "id": "fe2e625c-b0ce-4246-b219-8f44df5907dd",
   "metadata": {},
   "source": [
    "This is interesting, albeit unwanted! It's unclear why we don't see any performance benefit - I'm not going to investigate too thoroughly here, but may take another look in the future..."
   ]
  }
 ],
 "metadata": {
  "kernelspec": {
   "display_name": "Python 3 (ipykernel)",
   "language": "python",
   "name": "python3"
  },
  "language_info": {
   "codemirror_mode": {
    "name": "ipython",
    "version": 3
   },
   "file_extension": ".py",
   "mimetype": "text/x-python",
   "name": "python",
   "nbconvert_exporter": "python",
   "pygments_lexer": "ipython3",
   "version": "3.8.2"
  }
 },
 "nbformat": 4,
 "nbformat_minor": 5
}
